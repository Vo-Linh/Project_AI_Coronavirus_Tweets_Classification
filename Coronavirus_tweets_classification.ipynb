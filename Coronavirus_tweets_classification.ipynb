{
  "nbformat": 4,
  "nbformat_minor": 0,
  "metadata": {
    "colab": {
      "name": "Coronavirus_tweets_classification.ipynb",
      "provenance": [],
      "collapsed_sections": [],
      "toc_visible": true
    },
    "kernelspec": {
      "name": "python3",
      "display_name": "Python 3"
    },
    "language_info": {
      "name": "python"
    },
    "accelerator": "GPU"
  },
  "cells": [
    {
      "cell_type": "markdown",
      "source": [
        "# Coronavirus tweets classification | NLP 🦠 \n",
        "\n",
        "Perform Text Classification on the data. The tweets have been pulled from Twitter and manual tagging has been done then.\n",
        "The names and usernames have been given codes to avoid any privacy concerns.\n",
        "\n",
        "Columns:\n",
        "\n",
        "1) Location\n",
        "\n",
        "2) Tweet At\n",
        "\n",
        "3) Original Tweet\n",
        "\n",
        "4) Label\n",
        "\n",
        "Please leave an upvote if you find this relevant. P.S. I am new and it will help immensely. :)\n",
        "Other Datasets:\n",
        "\n",
        "1) Guns dataset: https://www.kaggle.com/datatattle/guns-incident-data\n",
        "\n",
        "2) Sales Prediction: https://www.kaggle.com/datatattle/sales-prediction-dt-mart-retail\n",
        "\n",
        "3) Retail Sales: https://www.kaggle.com/datatattle/dtmart-retail-sales\n",
        "\n",
        "More detail: https://www.kaggle.com/datatattle/covid-19-nlp-text-classification"
      ],
      "metadata": {
        "id": "Xsc_lI4eS9Mk"
      }
    },
    {
      "cell_type": "markdown",
      "source": [
        "## Download data and visualize data"
      ],
      "metadata": {
        "id": "p1SUI0XBTm4t"
      }
    },
    {
      "cell_type": "code",
      "source": [
        "# upload file kaggle.json\n",
        "from google.colab import files\n",
        "files.upload()"
      ],
      "metadata": {
        "id": "I1M1btbBUGFC",
        "colab": {
          "resources": {
            "http://localhost:8080/nbextensions/google.colab/files.js": {
              "data": "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",
              "ok": true,
              "headers": [
                [
                  "content-type",
                  "application/javascript"
                ]
              ],
              "status": 200,
              "status_text": ""
            }
          },
          "base_uri": "https://localhost:8080/",
          "height": 55
        },
        "outputId": "f8dbea33-8367-41fb-8311-2b1771fd72bf"
      },
      "execution_count": 1,
      "outputs": [
        {
          "output_type": "display_data",
          "data": {
            "text/html": [
              "\n",
              "     <input type=\"file\" id=\"files-3fd268c3-ea31-4e79-866f-12f4b16f3791\" name=\"files[]\" multiple disabled\n",
              "        style=\"border:none\" />\n",
              "     <output id=\"result-3fd268c3-ea31-4e79-866f-12f4b16f3791\">\n",
              "      Upload widget is only available when the cell has been executed in the\n",
              "      current browser session. Please rerun this cell to enable.\n",
              "      </output>\n",
              "      <script src=\"/nbextensions/google.colab/files.js\"></script> "
            ],
            "text/plain": [
              "<IPython.core.display.HTML object>"
            ]
          },
          "metadata": {}
        },
        {
          "output_type": "execute_result",
          "data": {
            "text/plain": [
              "{}"
            ]
          },
          "metadata": {},
          "execution_count": 1
        }
      ]
    },
    {
      "cell_type": "code",
      "source": [
        "# Dowload data from kaggle\n",
        "!mkdir -p ~/.kaggle \n",
        "!cp kaggle.json ~/.kaggle/ \n",
        "!ls ~/.kaggle \n",
        "!chmod 600 /root/.kaggle/kaggle.json \n",
        "!kaggle datasets download -d datatattle/covid-19-nlp-text-classification"
      ],
      "metadata": {
        "colab": {
          "base_uri": "https://localhost:8080/"
        },
        "id": "J5fXJGucXmdM",
        "outputId": "96160cb7-083c-40bb-ae4f-c78efff553f5"
      },
      "execution_count": 2,
      "outputs": [
        {
          "output_type": "stream",
          "name": "stdout",
          "text": [
            "kaggle.json\n",
            "covid-19-nlp-text-classification.zip: Skipping, found more recently modified local copy (use --force to force download)\n"
          ]
        }
      ]
    },
    {
      "cell_type": "code",
      "source": [
        "!unzip /content/covid-19-nlp-text-classification.zip"
      ],
      "metadata": {
        "colab": {
          "base_uri": "https://localhost:8080/"
        },
        "id": "ocGajF5TYUwP",
        "outputId": "efe12f3a-d162-47da-a4ad-1f57e674110f"
      },
      "execution_count": 3,
      "outputs": [
        {
          "output_type": "stream",
          "name": "stdout",
          "text": [
            "Archive:  /content/covid-19-nlp-text-classification.zip\n",
            "replace Corona_NLP_test.csv? [y]es, [n]o, [A]ll, [N]one, [r]ename: All\n",
            "  inflating: Corona_NLP_test.csv     \n",
            "  inflating: Corona_NLP_train.csv    \n"
          ]
        }
      ]
    },
    {
      "cell_type": "markdown",
      "source": [
        "### Read data"
      ],
      "metadata": {
        "id": "WfX5WayoY8L0"
      }
    },
    {
      "cell_type": "code",
      "source": [
        "import pandas as pd\n",
        "from google.colab import data_table\n",
        "import seaborn as sns\n",
        "import matplotlib.pyplot as plt\n",
        "import nltk\n",
        "import re\n",
        "from sklearn.feature_extraction.text import CountVectorizer\n",
        "import numpy as np\n",
        "\n",
        "data_table.enable_dataframe_formatter()"
      ],
      "metadata": {
        "id": "Iiy-erScZE7u"
      },
      "execution_count": 4,
      "outputs": []
    },
    {
      "cell_type": "code",
      "source": [
        "df_train = pd.read_csv('/content/Corona_NLP_train.csv', encoding = \"ISO-8859-1\")\n",
        "df_test = pd.read_csv('/content/Corona_NLP_test.csv', encoding = \"ISO-8859-1\")"
      ],
      "metadata": {
        "id": "8tDMJPrHZeZ7"
      },
      "execution_count": 5,
      "outputs": []
    },
    {
      "cell_type": "code",
      "source": [
        "df_train"
      ],
      "metadata": {
        "colab": {
          "base_uri": "https://localhost:8080/",
          "height": 1666
        },
        "id": "9nDwmJDxZq2j",
        "outputId": "7c3b6c0e-5e1d-42fa-f1ae-856daae0bae2"
      },
      "execution_count": 6,
      "outputs": [
        {
          "output_type": "stream",
          "name": "stdout",
          "text": [
            "Warning: total number of rows (41157) exceeds max_rows (20000). Falling back to pandas display.\n"
          ]
        },
        {
          "output_type": "execute_result",
          "data": {
            "text/html": [
              "\n",
              "  <div id=\"df-4637b29c-a739-45a6-b0d6-d9ea28ca567f\">\n",
              "    <div class=\"colab-df-container\">\n",
              "      <div>\n",
              "<style scoped>\n",
              "    .dataframe tbody tr th:only-of-type {\n",
              "        vertical-align: middle;\n",
              "    }\n",
              "\n",
              "    .dataframe tbody tr th {\n",
              "        vertical-align: top;\n",
              "    }\n",
              "\n",
              "    .dataframe thead th {\n",
              "        text-align: right;\n",
              "    }\n",
              "</style>\n",
              "<table border=\"1\" class=\"dataframe\">\n",
              "  <thead>\n",
              "    <tr style=\"text-align: right;\">\n",
              "      <th></th>\n",
              "      <th>UserName</th>\n",
              "      <th>ScreenName</th>\n",
              "      <th>Location</th>\n",
              "      <th>TweetAt</th>\n",
              "      <th>OriginalTweet</th>\n",
              "      <th>Sentiment</th>\n",
              "    </tr>\n",
              "  </thead>\n",
              "  <tbody>\n",
              "    <tr>\n",
              "      <th>0</th>\n",
              "      <td>3799</td>\n",
              "      <td>48751</td>\n",
              "      <td>London</td>\n",
              "      <td>16-03-2020</td>\n",
              "      <td>@MeNyrbie @Phil_Gahan @Chrisitv https://t.co/i...</td>\n",
              "      <td>Neutral</td>\n",
              "    </tr>\n",
              "    <tr>\n",
              "      <th>1</th>\n",
              "      <td>3800</td>\n",
              "      <td>48752</td>\n",
              "      <td>UK</td>\n",
              "      <td>16-03-2020</td>\n",
              "      <td>advice Talk to your neighbours family to excha...</td>\n",
              "      <td>Positive</td>\n",
              "    </tr>\n",
              "    <tr>\n",
              "      <th>2</th>\n",
              "      <td>3801</td>\n",
              "      <td>48753</td>\n",
              "      <td>Vagabonds</td>\n",
              "      <td>16-03-2020</td>\n",
              "      <td>Coronavirus Australia: Woolworths to give elde...</td>\n",
              "      <td>Positive</td>\n",
              "    </tr>\n",
              "    <tr>\n",
              "      <th>3</th>\n",
              "      <td>3802</td>\n",
              "      <td>48754</td>\n",
              "      <td>NaN</td>\n",
              "      <td>16-03-2020</td>\n",
              "      <td>My food stock is not the only one which is emp...</td>\n",
              "      <td>Positive</td>\n",
              "    </tr>\n",
              "    <tr>\n",
              "      <th>4</th>\n",
              "      <td>3803</td>\n",
              "      <td>48755</td>\n",
              "      <td>NaN</td>\n",
              "      <td>16-03-2020</td>\n",
              "      <td>Me, ready to go at supermarket during the #COV...</td>\n",
              "      <td>Extremely Negative</td>\n",
              "    </tr>\n",
              "    <tr>\n",
              "      <th>...</th>\n",
              "      <td>...</td>\n",
              "      <td>...</td>\n",
              "      <td>...</td>\n",
              "      <td>...</td>\n",
              "      <td>...</td>\n",
              "      <td>...</td>\n",
              "    </tr>\n",
              "    <tr>\n",
              "      <th>41152</th>\n",
              "      <td>44951</td>\n",
              "      <td>89903</td>\n",
              "      <td>Wellington City, New Zealand</td>\n",
              "      <td>14-04-2020</td>\n",
              "      <td>Airline pilots offering to stock supermarket s...</td>\n",
              "      <td>Neutral</td>\n",
              "    </tr>\n",
              "    <tr>\n",
              "      <th>41153</th>\n",
              "      <td>44952</td>\n",
              "      <td>89904</td>\n",
              "      <td>NaN</td>\n",
              "      <td>14-04-2020</td>\n",
              "      <td>Response to complaint not provided citing COVI...</td>\n",
              "      <td>Extremely Negative</td>\n",
              "    </tr>\n",
              "    <tr>\n",
              "      <th>41154</th>\n",
              "      <td>44953</td>\n",
              "      <td>89905</td>\n",
              "      <td>NaN</td>\n",
              "      <td>14-04-2020</td>\n",
              "      <td>You know itÂs getting tough when @KameronWild...</td>\n",
              "      <td>Positive</td>\n",
              "    </tr>\n",
              "    <tr>\n",
              "      <th>41155</th>\n",
              "      <td>44954</td>\n",
              "      <td>89906</td>\n",
              "      <td>NaN</td>\n",
              "      <td>14-04-2020</td>\n",
              "      <td>Is it wrong that the smell of hand sanitizer i...</td>\n",
              "      <td>Neutral</td>\n",
              "    </tr>\n",
              "    <tr>\n",
              "      <th>41156</th>\n",
              "      <td>44955</td>\n",
              "      <td>89907</td>\n",
              "      <td>i love you so much || he/him</td>\n",
              "      <td>14-04-2020</td>\n",
              "      <td>@TartiiCat Well new/used Rift S are going for ...</td>\n",
              "      <td>Negative</td>\n",
              "    </tr>\n",
              "  </tbody>\n",
              "</table>\n",
              "<p>41157 rows × 6 columns</p>\n",
              "</div>\n",
              "      <button class=\"colab-df-convert\" onclick=\"convertToInteractive('df-4637b29c-a739-45a6-b0d6-d9ea28ca567f')\"\n",
              "              title=\"Convert this dataframe to an interactive table.\"\n",
              "              style=\"display:none;\">\n",
              "        \n",
              "  <svg xmlns=\"http://www.w3.org/2000/svg\" height=\"24px\"viewBox=\"0 0 24 24\"\n",
              "       width=\"24px\">\n",
              "    <path d=\"M0 0h24v24H0V0z\" fill=\"none\"/>\n",
              "    <path d=\"M18.56 5.44l.94 2.06.94-2.06 2.06-.94-2.06-.94-.94-2.06-.94 2.06-2.06.94zm-11 1L8.5 8.5l.94-2.06 2.06-.94-2.06-.94L8.5 2.5l-.94 2.06-2.06.94zm10 10l.94 2.06.94-2.06 2.06-.94-2.06-.94-.94-2.06-.94 2.06-2.06.94z\"/><path d=\"M17.41 7.96l-1.37-1.37c-.4-.4-.92-.59-1.43-.59-.52 0-1.04.2-1.43.59L10.3 9.45l-7.72 7.72c-.78.78-.78 2.05 0 2.83L4 21.41c.39.39.9.59 1.41.59.51 0 1.02-.2 1.41-.59l7.78-7.78 2.81-2.81c.8-.78.8-2.07 0-2.86zM5.41 20L4 18.59l7.72-7.72 1.47 1.35L5.41 20z\"/>\n",
              "  </svg>\n",
              "      </button>\n",
              "      \n",
              "  <style>\n",
              "    .colab-df-container {\n",
              "      display:flex;\n",
              "      flex-wrap:wrap;\n",
              "      gap: 12px;\n",
              "    }\n",
              "\n",
              "    .colab-df-convert {\n",
              "      background-color: #E8F0FE;\n",
              "      border: none;\n",
              "      border-radius: 50%;\n",
              "      cursor: pointer;\n",
              "      display: none;\n",
              "      fill: #1967D2;\n",
              "      height: 32px;\n",
              "      padding: 0 0 0 0;\n",
              "      width: 32px;\n",
              "    }\n",
              "\n",
              "    .colab-df-convert:hover {\n",
              "      background-color: #E2EBFA;\n",
              "      box-shadow: 0px 1px 2px rgba(60, 64, 67, 0.3), 0px 1px 3px 1px rgba(60, 64, 67, 0.15);\n",
              "      fill: #174EA6;\n",
              "    }\n",
              "\n",
              "    [theme=dark] .colab-df-convert {\n",
              "      background-color: #3B4455;\n",
              "      fill: #D2E3FC;\n",
              "    }\n",
              "\n",
              "    [theme=dark] .colab-df-convert:hover {\n",
              "      background-color: #434B5C;\n",
              "      box-shadow: 0px 1px 3px 1px rgba(0, 0, 0, 0.15);\n",
              "      filter: drop-shadow(0px 1px 2px rgba(0, 0, 0, 0.3));\n",
              "      fill: #FFFFFF;\n",
              "    }\n",
              "  </style>\n",
              "\n",
              "      <script>\n",
              "        const buttonEl =\n",
              "          document.querySelector('#df-4637b29c-a739-45a6-b0d6-d9ea28ca567f button.colab-df-convert');\n",
              "        buttonEl.style.display =\n",
              "          google.colab.kernel.accessAllowed ? 'block' : 'none';\n",
              "\n",
              "        async function convertToInteractive(key) {\n",
              "          const element = document.querySelector('#df-4637b29c-a739-45a6-b0d6-d9ea28ca567f');\n",
              "          const dataTable =\n",
              "            await google.colab.kernel.invokeFunction('convertToInteractive',\n",
              "                                                     [key], {});\n",
              "          if (!dataTable) return;\n",
              "\n",
              "          const docLinkHtml = 'Like what you see? Visit the ' +\n",
              "            '<a target=\"_blank\" href=https://colab.research.google.com/notebooks/data_table.ipynb>data table notebook</a>'\n",
              "            + ' to learn more about interactive tables.';\n",
              "          element.innerHTML = '';\n",
              "          dataTable['output_type'] = 'display_data';\n",
              "          await google.colab.output.renderOutput(dataTable, element);\n",
              "          const docLink = document.createElement('div');\n",
              "          docLink.innerHTML = docLinkHtml;\n",
              "          element.appendChild(docLink);\n",
              "        }\n",
              "      </script>\n",
              "    </div>\n",
              "  </div>\n",
              "  "
            ],
            "text/plain": [
              "       UserName  ...           Sentiment\n",
              "0          3799  ...             Neutral\n",
              "1          3800  ...            Positive\n",
              "2          3801  ...            Positive\n",
              "3          3802  ...            Positive\n",
              "4          3803  ...  Extremely Negative\n",
              "...         ...  ...                 ...\n",
              "41152     44951  ...             Neutral\n",
              "41153     44952  ...  Extremely Negative\n",
              "41154     44953  ...            Positive\n",
              "41155     44954  ...             Neutral\n",
              "41156     44955  ...            Negative\n",
              "\n",
              "[41157 rows x 6 columns]"
            ]
          },
          "metadata": {},
          "execution_count": 6
        },
        {
          "output_type": "stream",
          "name": "stdout",
          "text": [
            "Warning: total number of rows (32567) exceeds max_rows (20000). Limiting to first (20000) rows.\n",
            "Error: Runtime no longer has a reference to this dataframe, please re-run this cell and try again.\n"
          ]
        }
      ]
    },
    {
      "cell_type": "code",
      "source": [
        "len(df_train), len(df_test)"
      ],
      "metadata": {
        "colab": {
          "base_uri": "https://localhost:8080/"
        },
        "id": "uD2RAnI5aE9S",
        "outputId": "f6a2d3a1-bb7a-45af-8bcc-c8875b71b43c"
      },
      "execution_count": 7,
      "outputs": [
        {
          "output_type": "execute_result",
          "data": {
            "text/plain": [
              "(41157, 3798)"
            ]
          },
          "metadata": {},
          "execution_count": 7
        }
      ]
    },
    {
      "cell_type": "markdown",
      "source": [
        "### Visualize data "
      ],
      "metadata": {
        "id": "cdUVFXIha3cf"
      }
    },
    {
      "cell_type": "code",
      "source": [
        "count_classes = df_train['Location'].value_counts()\n",
        "count_classes"
      ],
      "metadata": {
        "colab": {
          "base_uri": "https://localhost:8080/"
        },
        "id": "wBFCyq-Zbkxw",
        "outputId": "af4ca280-603e-4456-eaa4-82d8d19c198f"
      },
      "execution_count": 8,
      "outputs": [
        {
          "output_type": "execute_result",
          "data": {
            "text/plain": [
              "London                            540\n",
              "United States                     528\n",
              "London, England                   520\n",
              "New York, NY                      395\n",
              "Washington, DC                    373\n",
              "                                 ... \n",
              "Yellowknife                         1\n",
              "Atlanta University Center           1\n",
              "???? ?????? ????? 9935943398        1\n",
              "ÃT: 36.319708,-82.363649           1\n",
              "City Hall 121 N LaSalle Rm 805      1\n",
              "Name: Location, Length: 12220, dtype: int64"
            ]
          },
          "metadata": {},
          "execution_count": 8
        }
      ]
    },
    {
      "cell_type": "code",
      "source": [
        "count_classes[:10]"
      ],
      "metadata": {
        "colab": {
          "base_uri": "https://localhost:8080/"
        },
        "id": "iJ4yfkhQcmUt",
        "outputId": "9bb5b83a-5c0f-44d8-8d74-bf333fe62e72"
      },
      "execution_count": 9,
      "outputs": [
        {
          "output_type": "execute_result",
          "data": {
            "text/plain": [
              "London             540\n",
              "United States      528\n",
              "London, England    520\n",
              "New York, NY       395\n",
              "Washington, DC     373\n",
              "United Kingdom     337\n",
              "Los Angeles, CA    281\n",
              "India              268\n",
              "UK                 232\n",
              "Australia          225\n",
              "Name: Location, dtype: int64"
            ]
          },
          "metadata": {},
          "execution_count": 9
        }
      ]
    },
    {
      "cell_type": "code",
      "source": [
        "def plot_pie(df, column, axes, amount = -1):\n",
        "    '''\n",
        "    PLOT PIE\n",
        "    -------------\n",
        "    df: datafarme read form dataset\n",
        "    columns: columns of df you want visualize\n",
        "    axes: position of plot\n",
        "    amount: numbers of classes you want show in the plot\n",
        "    '''\n",
        "    \n",
        "    count_classes = df[column].value_counts() # return amount of each class\n",
        "    if (amount != -1):\n",
        "        count_classes = count_classes[:amount]\n",
        "\n",
        "    n_classes = len(count_classes)\n",
        "    colors = sns.color_palette('pastel')\n",
        "    explode = (0.1, )*n_classes\n",
        "\n",
        "    axes.pie(count_classes,\n",
        "             labels = count_classes.index,\n",
        "             explode = explode,\n",
        "             autopct = '%.0f%%',\n",
        "             shadow = True,\n",
        "             startangle = 90)"
      ],
      "metadata": {
        "id": "AizrqNSTeDmH"
      },
      "execution_count": 10,
      "outputs": []
    },
    {
      "cell_type": "code",
      "source": [
        "fig, axes = plt.subplots(nrows=1, ncols=2, figsize=(20,8))\n",
        "\n",
        "plot_pie(df_train, 'Location', axes[0], amount= 11)\n",
        "plot_pie(df_train, 'Sentiment', axes[1])\n",
        "plt.show()"
      ],
      "metadata": {
        "colab": {
          "base_uri": "https://localhost:8080/",
          "height": 406
        },
        "id": "oRY2CGIWkGCh",
        "outputId": "3e2cc229-93b9-4f9b-a063-1d605f6ba6f0"
      },
      "execution_count": 11,
      "outputs": [
        {
          "output_type": "display_data",
          "data": {
            "image/png": "[encoded data removed]",
            "text/plain": [
              "<Figure size 1440x576 with 2 Axes>"
            ]
          },
          "metadata": {}
        }
      ]
    },
    {
      "cell_type": "code",
      "source": [
        "df_train.info()"
      ],
      "metadata": {
        "id": "ophiLqKvk76g",
        "colab": {
          "base_uri": "https://localhost:8080/"
        },
        "outputId": "3616b437-f964-457f-f4c6-0c7492983b00"
      },
      "execution_count": 12,
      "outputs": [
        {
          "output_type": "stream",
          "name": "stdout",
          "text": [
            "<class 'pandas.core.frame.DataFrame'>\n",
            "RangeIndex: 41157 entries, 0 to 41156\n",
            "Data columns (total 6 columns):\n",
            " #   Column         Non-Null Count  Dtype \n",
            "---  ------         --------------  ----- \n",
            " 0   UserName       41157 non-null  int64 \n",
            " 1   ScreenName     41157 non-null  int64 \n",
            " 2   Location       32567 non-null  object\n",
            " 3   TweetAt        41157 non-null  object\n",
            " 4   OriginalTweet  41157 non-null  object\n",
            " 5   Sentiment      41157 non-null  object\n",
            "dtypes: int64(2), object(4)\n",
            "memory usage: 1.9+ MB\n"
          ]
        }
      ]
    },
    {
      "cell_type": "code",
      "source": [
        "plt.figure(figsize= (9, 6))\n",
        "sns.countplot(x = \"Sentiment\", data = df_train);"
      ],
      "metadata": {
        "colab": {
          "base_uri": "https://localhost:8080/",
          "height": 388
        },
        "id": "hyefYOBEgy3b",
        "outputId": "5cd599b2-c2bb-4141-c888-bf76dca12bfd"
      },
      "execution_count": 13,
      "outputs": [
        {
          "output_type": "display_data",
          "data": {
            "image/png": "[encoded data removed]",
            "text/plain": [
              "<Figure size 648x432 with 1 Axes>"
            ]
          },
          "metadata": {
            "needs_background": "light"
          }
        }
      ]
    },
    {
      "cell_type": "markdown",
      "source": [
        "## Pre-Processing data\n"
      ],
      "metadata": {
        "id": "QOxUL6kPhU50"
      }
    },
    {
      "cell_type": "markdown",
      "source": [
        "### Clean data \n",
        "1. ***Stop-Word Removal*** : In English words like a, an, the, as, in, on, etc. are considered as stop-words so according to our requirements we can remove them to reduce vocabulary size as these words don't have some specific meaning\n",
        "\n",
        "2. ***Lower Casing*** : Convert all words into the lower case because the upper or lower case may not make a difference for the problem. And we are reducing vocabulary size by doing so.\n",
        "\n",
        "3. ***Stemming*** : Stemming refers to the process of removing suffixes and reducing a word to some base form such that all different variants of that word can be represented by the same form (e.g., “walk” and “walking” are both reduced to “walk”).\n",
        "\n",
        "4. ***Tokenization***: NLP software typically analyzes text by breaking it up into words (tokens) and sentences.\n"
      ],
      "metadata": {
        "id": "BmyjFkeWiCG8"
      }
    },
    {
      "cell_type": "code",
      "source": [
        "# Check NaN\n",
        "df_train.isnull().sum()"
      ],
      "metadata": {
        "colab": {
          "base_uri": "https://localhost:8080/"
        },
        "id": "fsPoow-tiTij",
        "outputId": "7db4c6f5-9355-409d-f469-ca928e935946"
      },
      "execution_count": 14,
      "outputs": [
        {
          "output_type": "execute_result",
          "data": {
            "text/plain": [
              "UserName            0\n",
              "ScreenName          0\n",
              "Location         8590\n",
              "TweetAt             0\n",
              "OriginalTweet       0\n",
              "Sentiment           0\n",
              "dtype: int64"
            ]
          },
          "metadata": {},
          "execution_count": 14
        }
      ]
    },
    {
      "cell_type": "code",
      "source": [
        "df_test.isnull().sum()"
      ],
      "metadata": {
        "colab": {
          "base_uri": "https://localhost:8080/"
        },
        "id": "ykNzjX-QibWs",
        "outputId": "9959d0e0-5d9e-4770-e164-5ff296931469"
      },
      "execution_count": 15,
      "outputs": [
        {
          "output_type": "execute_result",
          "data": {
            "text/plain": [
              "UserName           0\n",
              "ScreenName         0\n",
              "Location         834\n",
              "TweetAt            0\n",
              "OriginalTweet      0\n",
              "Sentiment          0\n",
              "dtype: int64"
            ]
          },
          "metadata": {},
          "execution_count": 15
        }
      ]
    },
    {
      "cell_type": "code",
      "source": [
        "# check duplicated\n",
        "df_train.duplicated().sum(), df_test.duplicated().sum()"
      ],
      "metadata": {
        "colab": {
          "base_uri": "https://localhost:8080/"
        },
        "id": "oEhPE5Nvi8W6",
        "outputId": "6acb7475-9738-48fa-c615-b934b3e6baf0"
      },
      "execution_count": 16,
      "outputs": [
        {
          "output_type": "execute_result",
          "data": {
            "text/plain": [
              "(0, 0)"
            ]
          },
          "metadata": {},
          "execution_count": 16
        }
      ]
    },
    {
      "cell_type": "code",
      "source": [
        "# Remove NaN\n",
        "df_train.dropna(inplace = True)\n",
        "df_test.dropna(inplace = True)"
      ],
      "metadata": {
        "id": "_4FM4pHJlRtC"
      },
      "execution_count": 17,
      "outputs": []
    },
    {
      "cell_type": "code",
      "source": [
        "# Drop columns which we don't require\n",
        "\n",
        "waste_col = ['UserName', 'ScreenName', 'Location', 'TweetAt']\n",
        "\n",
        "train_data = df_train.drop(waste_col, axis = 1)\n",
        "test_data = df_test.drop(waste_col, axis = 1)"
      ],
      "metadata": {
        "id": "rF62RRzruaQn"
      },
      "execution_count": 18,
      "outputs": []
    },
    {
      "cell_type": "code",
      "source": [
        "train_data.head()"
      ],
      "metadata": {
        "colab": {
          "base_uri": "https://localhost:8080/",
          "height": 247
        },
        "id": "Q4V_YAOGv9_n",
        "outputId": "3c1714eb-2c80-4706-e745-79ad66d832ca"
      },
      "execution_count": 19,
      "outputs": [
        {
          "output_type": "execute_result",
          "data": {
            "application/vnd.google.colaboratory.module+javascript": "\n      import \"https://ssl.gstatic.com/colaboratory/data_table/a6224c040fa35dcf/data_table.js\";\n\n      window.createDataTable({\n        data: [[{\n            'v': 0,\n            'f': \"0\",\n        },\n\"@MeNyrbie @Phil_Gahan @Chrisitv https://t.co/iFz9FAn2Pa and https://t.co/xX6ghGFzCC and https://t.co/I2NlzdxNo8\",\n\"Neutral\"],\n [{\n            'v': 1,\n            'f': \"1\",\n        },\n\"advice Talk to your neighbours family to exchange phone numbers create contact list with phone numbers of neighbours schools employer chemist GP set up online shopping accounts if poss adequate supplies of regular meds but not over order\",\n\"Positive\"],\n [{\n            'v': 2,\n            'f': \"2\",\n        },\n\"Coronavirus Australia: Woolworths to give elderly, disabled dedicated shopping hours amid COVID-19 outbreak https://t.co/bInCA9Vp8P\",\n\"Positive\"],\n [{\n            'v': 5,\n            'f': \"5\",\n        },\n\"As news of the region\\u00c2\\u0092s first confirmed COVID-19 case came out of Sullivan County last week, people flocked to area stores to purchase cleaning supplies, hand sanitizer, food, toilet paper and other goods, @Tim_Dodson reports https://t.co/cfXch7a2lU\",\n\"Positive\"],\n [{\n            'v': 6,\n            'f': \"6\",\n        },\n\"Cashier at grocery store was sharing his insights on #Covid_19 To prove his credibility he commented \\\"I'm in Civics class so I know what I'm talking about\\\". https://t.co/ieFDNeHgDO\",\n\"Positive\"]],\n        columns: [[\"number\", \"index\"], [\"string\", \"OriginalTweet\"], [\"string\", \"Sentiment\"]],\n        columnOptions: [{\"width\": \"1px\", \"className\": \"index_column\"}],\n        rowsPerPage: 25,\n        helpUrl: \"https://colab.research.google.com/notebooks/data_table.ipynb\",\n        suppressOutputScrolling: true,\n        minimumWidth: undefined,\n      });\n    ",
            "text/html": [
              "\n",
              "  <div id=\"df-02a97caf-4e9c-4aaa-8de3-5f51fa57a9e5\">\n",
              "    <div class=\"colab-df-container\">\n",
              "      <div>\n",
              "<style scoped>\n",
              "    .dataframe tbody tr th:only-of-type {\n",
              "        vertical-align: middle;\n",
              "    }\n",
              "\n",
              "    .dataframe tbody tr th {\n",
              "        vertical-align: top;\n",
              "    }\n",
              "\n",
              "    .dataframe thead th {\n",
              "        text-align: right;\n",
              "    }\n",
              "</style>\n",
              "<table border=\"1\" class=\"dataframe\">\n",
              "  <thead>\n",
              "    <tr style=\"text-align: right;\">\n",
              "      <th></th>\n",
              "      <th>OriginalTweet</th>\n",
              "      <th>Sentiment</th>\n",
              "    </tr>\n",
              "  </thead>\n",
              "  <tbody>\n",
              "    <tr>\n",
              "      <th>0</th>\n",
              "      <td>@MeNyrbie @Phil_Gahan @Chrisitv https://t.co/i...</td>\n",
              "      <td>Neutral</td>\n",
              "    </tr>\n",
              "    <tr>\n",
              "      <th>1</th>\n",
              "      <td>advice Talk to your neighbours family to excha...</td>\n",
              "      <td>Positive</td>\n",
              "    </tr>\n",
              "    <tr>\n",
              "      <th>2</th>\n",
              "      <td>Coronavirus Australia: Woolworths to give elde...</td>\n",
              "      <td>Positive</td>\n",
              "    </tr>\n",
              "    <tr>\n",
              "      <th>5</th>\n",
              "      <td>As news of the regionÂs first confirmed COVID...</td>\n",
              "      <td>Positive</td>\n",
              "    </tr>\n",
              "    <tr>\n",
              "      <th>6</th>\n",
              "      <td>Cashier at grocery store was sharing his insig...</td>\n",
              "      <td>Positive</td>\n",
              "    </tr>\n",
              "  </tbody>\n",
              "</table>\n",
              "</div>\n",
              "      <button class=\"colab-df-convert\" onclick=\"convertToInteractive('df-02a97caf-4e9c-4aaa-8de3-5f51fa57a9e5')\"\n",
              "              title=\"Convert this dataframe to an interactive table.\"\n",
              "              style=\"display:none;\">\n",
              "        \n",
              "  <svg xmlns=\"http://www.w3.org/2000/svg\" height=\"24px\"viewBox=\"0 0 24 24\"\n",
              "       width=\"24px\">\n",
              "    <path d=\"M0 0h24v24H0V0z\" fill=\"none\"/>\n",
              "    <path d=\"M18.56 5.44l.94 2.06.94-2.06 2.06-.94-2.06-.94-.94-2.06-.94 2.06-2.06.94zm-11 1L8.5 8.5l.94-2.06 2.06-.94-2.06-.94L8.5 2.5l-.94 2.06-2.06.94zm10 10l.94 2.06.94-2.06 2.06-.94-2.06-.94-.94-2.06-.94 2.06-2.06.94z\"/><path d=\"M17.41 7.96l-1.37-1.37c-.4-.4-.92-.59-1.43-.59-.52 0-1.04.2-1.43.59L10.3 9.45l-7.72 7.72c-.78.78-.78 2.05 0 2.83L4 21.41c.39.39.9.59 1.41.59.51 0 1.02-.2 1.41-.59l7.78-7.78 2.81-2.81c.8-.78.8-2.07 0-2.86zM5.41 20L4 18.59l7.72-7.72 1.47 1.35L5.41 20z\"/>\n",
              "  </svg>\n",
              "      </button>\n",
              "      \n",
              "  <style>\n",
              "    .colab-df-container {\n",
              "      display:flex;\n",
              "      flex-wrap:wrap;\n",
              "      gap: 12px;\n",
              "    }\n",
              "\n",
              "    .colab-df-convert {\n",
              "      background-color: #E8F0FE;\n",
              "      border: none;\n",
              "      border-radius: 50%;\n",
              "      cursor: pointer;\n",
              "      display: none;\n",
              "      fill: #1967D2;\n",
              "      height: 32px;\n",
              "      padding: 0 0 0 0;\n",
              "      width: 32px;\n",
              "    }\n",
              "\n",
              "    .colab-df-convert:hover {\n",
              "      background-color: #E2EBFA;\n",
              "      box-shadow: 0px 1px 2px rgba(60, 64, 67, 0.3), 0px 1px 3px 1px rgba(60, 64, 67, 0.15);\n",
              "      fill: #174EA6;\n",
              "    }\n",
              "\n",
              "    [theme=dark] .colab-df-convert {\n",
              "      background-color: #3B4455;\n",
              "      fill: #D2E3FC;\n",
              "    }\n",
              "\n",
              "    [theme=dark] .colab-df-convert:hover {\n",
              "      background-color: #434B5C;\n",
              "      box-shadow: 0px 1px 3px 1px rgba(0, 0, 0, 0.15);\n",
              "      filter: drop-shadow(0px 1px 2px rgba(0, 0, 0, 0.3));\n",
              "      fill: #FFFFFF;\n",
              "    }\n",
              "  </style>\n",
              "\n",
              "      <script>\n",
              "        const buttonEl =\n",
              "          document.querySelector('#df-02a97caf-4e9c-4aaa-8de3-5f51fa57a9e5 button.colab-df-convert');\n",
              "        buttonEl.style.display =\n",
              "          google.colab.kernel.accessAllowed ? 'block' : 'none';\n",
              "\n",
              "        async function convertToInteractive(key) {\n",
              "          const element = document.querySelector('#df-02a97caf-4e9c-4aaa-8de3-5f51fa57a9e5');\n",
              "          const dataTable =\n",
              "            await google.colab.kernel.invokeFunction('convertToInteractive',\n",
              "                                                     [key], {});\n",
              "          if (!dataTable) return;\n",
              "\n",
              "          const docLinkHtml = 'Like what you see? Visit the ' +\n",
              "            '<a target=\"_blank\" href=https://colab.research.google.com/notebooks/data_table.ipynb>data table notebook</a>'\n",
              "            + ' to learn more about interactive tables.';\n",
              "          element.innerHTML = '';\n",
              "          dataTable['output_type'] = 'display_data';\n",
              "          await google.colab.output.renderOutput(dataTable, element);\n",
              "          const docLink = document.createElement('div');\n",
              "          docLink.innerHTML = docLinkHtml;\n",
              "          element.appendChild(docLink);\n",
              "        }\n",
              "      </script>\n",
              "    </div>\n",
              "  </div>\n",
              "  "
            ],
            "text/plain": [
              "                                       OriginalTweet Sentiment\n",
              "0  @MeNyrbie @Phil_Gahan @Chrisitv https://t.co/i...   Neutral\n",
              "1  advice Talk to your neighbours family to excha...  Positive\n",
              "2  Coronavirus Australia: Woolworths to give elde...  Positive\n",
              "5  As news of the regionÂs first confirmed COVID...  Positive\n",
              "6  Cashier at grocery store was sharing his insig...  Positive"
            ]
          },
          "metadata": {},
          "execution_count": 19
        }
      ]
    },
    {
      "cell_type": "code",
      "source": [
        "# Convert sentiment into number\n",
        "def sentiment(x):\n",
        "    '''\n",
        "    Nummerical sentiment columns\n",
        "    Extremely Positive: 1\n",
        "    Positive: 1\n",
        "    Neutral: 0\n",
        "    Nagetive: -1\n",
        "    Extremely Negative: -1\n",
        "    '''\n",
        "\n",
        "    if x == 'Extremely Positive' or x == 'Positive':\n",
        "        return 1\n",
        "    elif x == 'Neutral':\n",
        "        return 0\n",
        "    else:\n",
        "        return -1\n",
        "\n",
        "train_data['Sentiment'] = train_data['Sentiment'].map(sentiment)\n",
        "test_data['Sentiment'] = test_data['Sentiment'].map(sentiment)"
      ],
      "metadata": {
        "id": "7hXQH0tMv_qw"
      },
      "execution_count": 20,
      "outputs": []
    },
    {
      "cell_type": "code",
      "source": [
        "plt.figure(figsize = (9, 6))\n",
        "sns.countplot(x = \"Sentiment\", data = train_data);"
      ],
      "metadata": {
        "colab": {
          "base_uri": "https://localhost:8080/",
          "height": 388
        },
        "id": "kFW1Uh8u4BE0",
        "outputId": "da3731bc-cd32-413b-e6e5-fc7147aa3912"
      },
      "execution_count": 21,
      "outputs": [
        {
          "output_type": "display_data",
          "data": {
            "image/png": "[encoded data removed]",
            "text/plain": [
              "<Figure size 648x432 with 1 Axes>"
            ]
          },
          "metadata": {
            "needs_background": "light"
          }
        }
      ]
    },
    {
      "cell_type": "code",
      "source": [
        "# Remove Urls and HTML links\n",
        "def remove_urls(text):\n",
        "    url_remove = re.compile(r'https?://\\S+|www\\.\\S+')\n",
        "\n",
        "    return url_remove.sub(r'', text)\n",
        "\n",
        "train_data['OriginalTweet'] = train_data['OriginalTweet'].map(remove_urls)\n",
        "test_data['OriginalTweet'] = test_data['OriginalTweet'].map(remove_urls)\n",
        "\n",
        "def remove_html(text):\n",
        "    html = re.compile(r'<.?>')\n",
        "\n",
        "    return html.sub(r'', text)\n",
        "\n",
        "train_data['OriginalTweet'] = train_data['OriginalTweet'].map(remove_html)\n",
        "test_data['OriginalTweet'] = test_data['OriginalTweet'].map(remove_html)\n"
      ],
      "metadata": {
        "id": "aEIf0AM64k6k"
      },
      "execution_count": 22,
      "outputs": []
    },
    {
      "cell_type": "code",
      "source": [
        "# Lower casting\n",
        "def lower(text):\n",
        "    lower_text = text.lower()\n",
        "    return lower_text\n",
        "\n",
        "train_data['OriginalTweet'] = train_data['OriginalTweet'].map(lower)\n",
        "test_data['OriginalTweet'] = test_data['OriginalTweet'].map(lower)\n",
        "\n",
        "# Number removal\n",
        "def remove_num(text):\n",
        "    remove = re.sub(r'\\d+', ' ', text)\n",
        "    return remove\n",
        "\n",
        "train_data['OriginalTweet'] = train_data['OriginalTweet'].map(remove_num)\n",
        "test_data['OriginalTweet'] = test_data['OriginalTweet'].map(remove_num)\n"
      ],
      "metadata": {
        "id": "hks9KmYp50Iw"
      },
      "execution_count": 23,
      "outputs": []
    },
    {
      "cell_type": "code",
      "source": [
        "# Remove stopwords and Punctuations\n",
        "nltk.download(\"stopwords\")\n",
        "from nltk.corpus import stopwords\n",
        "\", \".join(stopwords.words('english'))\n",
        "STOPWORDS = set(stopwords.words('english'))\n",
        "\n",
        "def punct_remove(text):\n",
        "    punct = re.sub(r'[^\\w\\s\\d]','', text)\n",
        "    return punct\n",
        "\n",
        "train_data['OriginalTweet'] = train_data['OriginalTweet'].map(punct_remove)\n",
        "test_data['OriginalTweet'] = test_data['OriginalTweet'].map(punct_remove)\n",
        "\n",
        "def remove_stopwords(text):\n",
        "    ''' Custom function to remove the stopwords'''\n",
        "    stopwords = ' '.join([word for word in str(text).split() if word not in STOPWORDS])\n",
        "    return stopwords\n",
        "\n",
        "train_data['OriginalTweet'] = train_data['OriginalTweet'].map(remove_stopwords)\n",
        "test_data['OriginalTweet'] = test_data['OriginalTweet'].map(remove_stopwords)\n"
      ],
      "metadata": {
        "colab": {
          "base_uri": "https://localhost:8080/"
        },
        "id": "4d58ZTQf7KIj",
        "outputId": "1e8cabd9-e809-41b7-e3d6-eabcd36cd3fd"
      },
      "execution_count": 24,
      "outputs": [
        {
          "output_type": "stream",
          "name": "stdout",
          "text": [
            "[nltk_data] Downloading package stopwords to /root/nltk_data...\n",
            "[nltk_data]   Package stopwords is already up-to-date!\n"
          ]
        }
      ]
    },
    {
      "cell_type": "code",
      "source": [
        "# Remove mentions and hashtag\n",
        "def remove_mention(x):\n",
        "    text = re.sub(r'@\\w+','', x)\n",
        "    return text\n",
        "\n",
        "train_data['OriginalTweet'] = train_data['OriginalTweet'].map(remove_mention)\n",
        "test_data['OriginalTweet'] = test_data['OriginalTweet'].map(remove_mention)\n",
        "\n",
        "def remove_hash(x):\n",
        "    text = re.sub(r'#\\w+', '', x)\n",
        "    return text\n",
        "\n",
        "train_data['OriginalTweet'] = train_data['OriginalTweet'].map(remove_hash)\n",
        "test_data['OriginalTweet'] = test_data['OriginalTweet'].map(remove_hash)\n",
        "\n",
        "# Remove extra white space left while removing stuff\n",
        "def remove_space(text):\n",
        "    space_remove = re.sub(r'\\s+', ' ', text).strip()\n",
        "    return space_remove\n",
        "\n",
        "train_data['OriginalTweet'] = train_data['OriginalTweet'].map(remove_space)\n",
        "test_data['OriginalTweet'] = test_data['OriginalTweet'].map(remove_space)"
      ],
      "metadata": {
        "id": "sDs9ia809-cm"
      },
      "execution_count": 25,
      "outputs": []
    },
    {
      "cell_type": "code",
      "source": [
        "train_data"
      ],
      "metadata": {
        "colab": {
          "base_uri": "https://localhost:8080/",
          "height": 441
        },
        "id": "_pKzm5hV_-FM",
        "outputId": "095929f4-f4be-429d-800f-c38ff33c87f1"
      },
      "execution_count": 26,
      "outputs": [
        {
          "output_type": "stream",
          "name": "stdout",
          "text": [
            "Warning: total number of rows (32567) exceeds max_rows (20000). Falling back to pandas display.\n"
          ]
        },
        {
          "output_type": "execute_result",
          "data": {
            "text/html": [
              "\n",
              "  <div id=\"df-7af2dd3f-b36d-4550-90db-c7406dc169dd\">\n",
              "    <div class=\"colab-df-container\">\n",
              "      <div>\n",
              "<style scoped>\n",
              "    .dataframe tbody tr th:only-of-type {\n",
              "        vertical-align: middle;\n",
              "    }\n",
              "\n",
              "    .dataframe tbody tr th {\n",
              "        vertical-align: top;\n",
              "    }\n",
              "\n",
              "    .dataframe thead th {\n",
              "        text-align: right;\n",
              "    }\n",
              "</style>\n",
              "<table border=\"1\" class=\"dataframe\">\n",
              "  <thead>\n",
              "    <tr style=\"text-align: right;\">\n",
              "      <th></th>\n",
              "      <th>OriginalTweet</th>\n",
              "      <th>Sentiment</th>\n",
              "    </tr>\n",
              "  </thead>\n",
              "  <tbody>\n",
              "    <tr>\n",
              "      <th>0</th>\n",
              "      <td>menyrbie phil_gahan chrisitv</td>\n",
              "      <td>0</td>\n",
              "    </tr>\n",
              "    <tr>\n",
              "      <th>1</th>\n",
              "      <td>advice talk neighbours family exchange phone n...</td>\n",
              "      <td>1</td>\n",
              "    </tr>\n",
              "    <tr>\n",
              "      <th>2</th>\n",
              "      <td>coronavirus australia woolworths give elderly ...</td>\n",
              "      <td>1</td>\n",
              "    </tr>\n",
              "    <tr>\n",
              "      <th>5</th>\n",
              "      <td>news regionâs first confirmed covid case came ...</td>\n",
              "      <td>1</td>\n",
              "    </tr>\n",
              "    <tr>\n",
              "      <th>6</th>\n",
              "      <td>cashier grocery store sharing insights covid_ ...</td>\n",
              "      <td>1</td>\n",
              "    </tr>\n",
              "    <tr>\n",
              "      <th>...</th>\n",
              "      <td>...</td>\n",
              "      <td>...</td>\n",
              "    </tr>\n",
              "    <tr>\n",
              "      <th>41147</th>\n",
              "      <td>yâall really shitting much home covid coronavi...</td>\n",
              "      <td>-1</td>\n",
              "    </tr>\n",
              "    <tr>\n",
              "      <th>41149</th>\n",
              "      <td>still shocked number toronto supermarket emplo...</td>\n",
              "      <td>-1</td>\n",
              "    </tr>\n",
              "    <tr>\n",
              "      <th>41150</th>\n",
              "      <td>never weâd situation amp world going supermark...</td>\n",
              "      <td>1</td>\n",
              "    </tr>\n",
              "    <tr>\n",
              "      <th>41152</th>\n",
              "      <td>airline pilots offering stock supermarket shel...</td>\n",
              "      <td>0</td>\n",
              "    </tr>\n",
              "    <tr>\n",
              "      <th>41156</th>\n",
              "      <td>tartiicat well newused rift going amazon rn al...</td>\n",
              "      <td>-1</td>\n",
              "    </tr>\n",
              "  </tbody>\n",
              "</table>\n",
              "<p>32567 rows × 2 columns</p>\n",
              "</div>\n",
              "      <button class=\"colab-df-convert\" onclick=\"convertToInteractive('df-7af2dd3f-b36d-4550-90db-c7406dc169dd')\"\n",
              "              title=\"Convert this dataframe to an interactive table.\"\n",
              "              style=\"display:none;\">\n",
              "        \n",
              "  <svg xmlns=\"http://www.w3.org/2000/svg\" height=\"24px\"viewBox=\"0 0 24 24\"\n",
              "       width=\"24px\">\n",
              "    <path d=\"M0 0h24v24H0V0z\" fill=\"none\"/>\n",
              "    <path d=\"M18.56 5.44l.94 2.06.94-2.06 2.06-.94-2.06-.94-.94-2.06-.94 2.06-2.06.94zm-11 1L8.5 8.5l.94-2.06 2.06-.94-2.06-.94L8.5 2.5l-.94 2.06-2.06.94zm10 10l.94 2.06.94-2.06 2.06-.94-2.06-.94-.94-2.06-.94 2.06-2.06.94z\"/><path d=\"M17.41 7.96l-1.37-1.37c-.4-.4-.92-.59-1.43-.59-.52 0-1.04.2-1.43.59L10.3 9.45l-7.72 7.72c-.78.78-.78 2.05 0 2.83L4 21.41c.39.39.9.59 1.41.59.51 0 1.02-.2 1.41-.59l7.78-7.78 2.81-2.81c.8-.78.8-2.07 0-2.86zM5.41 20L4 18.59l7.72-7.72 1.47 1.35L5.41 20z\"/>\n",
              "  </svg>\n",
              "      </button>\n",
              "      \n",
              "  <style>\n",
              "    .colab-df-container {\n",
              "      display:flex;\n",
              "      flex-wrap:wrap;\n",
              "      gap: 12px;\n",
              "    }\n",
              "\n",
              "    .colab-df-convert {\n",
              "      background-color: #E8F0FE;\n",
              "      border: none;\n",
              "      border-radius: 50%;\n",
              "      cursor: pointer;\n",
              "      display: none;\n",
              "      fill: #1967D2;\n",
              "      height: 32px;\n",
              "      padding: 0 0 0 0;\n",
              "      width: 32px;\n",
              "    }\n",
              "\n",
              "    .colab-df-convert:hover {\n",
              "      background-color: #E2EBFA;\n",
              "      box-shadow: 0px 1px 2px rgba(60, 64, 67, 0.3), 0px 1px 3px 1px rgba(60, 64, 67, 0.15);\n",
              "      fill: #174EA6;\n",
              "    }\n",
              "\n",
              "    [theme=dark] .colab-df-convert {\n",
              "      background-color: #3B4455;\n",
              "      fill: #D2E3FC;\n",
              "    }\n",
              "\n",
              "    [theme=dark] .colab-df-convert:hover {\n",
              "      background-color: #434B5C;\n",
              "      box-shadow: 0px 1px 3px 1px rgba(0, 0, 0, 0.15);\n",
              "      filter: drop-shadow(0px 1px 2px rgba(0, 0, 0, 0.3));\n",
              "      fill: #FFFFFF;\n",
              "    }\n",
              "  </style>\n",
              "\n",
              "      <script>\n",
              "        const buttonEl =\n",
              "          document.querySelector('#df-7af2dd3f-b36d-4550-90db-c7406dc169dd button.colab-df-convert');\n",
              "        buttonEl.style.display =\n",
              "          google.colab.kernel.accessAllowed ? 'block' : 'none';\n",
              "\n",
              "        async function convertToInteractive(key) {\n",
              "          const element = document.querySelector('#df-7af2dd3f-b36d-4550-90db-c7406dc169dd');\n",
              "          const dataTable =\n",
              "            await google.colab.kernel.invokeFunction('convertToInteractive',\n",
              "                                                     [key], {});\n",
              "          if (!dataTable) return;\n",
              "\n",
              "          const docLinkHtml = 'Like what you see? Visit the ' +\n",
              "            '<a target=\"_blank\" href=https://colab.research.google.com/notebooks/data_table.ipynb>data table notebook</a>'\n",
              "            + ' to learn more about interactive tables.';\n",
              "          element.innerHTML = '';\n",
              "          dataTable['output_type'] = 'display_data';\n",
              "          await google.colab.output.renderOutput(dataTable, element);\n",
              "          const docLink = document.createElement('div');\n",
              "          docLink.innerHTML = docLinkHtml;\n",
              "          element.appendChild(docLink);\n",
              "        }\n",
              "      </script>\n",
              "    </div>\n",
              "  </div>\n",
              "  "
            ],
            "text/plain": [
              "                                           OriginalTweet  Sentiment\n",
              "0                           menyrbie phil_gahan chrisitv          0\n",
              "1      advice talk neighbours family exchange phone n...          1\n",
              "2      coronavirus australia woolworths give elderly ...          1\n",
              "5      news regionâs first confirmed covid case came ...          1\n",
              "6      cashier grocery store sharing insights covid_ ...          1\n",
              "...                                                  ...        ...\n",
              "41147  yâall really shitting much home covid coronavi...         -1\n",
              "41149  still shocked number toronto supermarket emplo...         -1\n",
              "41150  never weâd situation amp world going supermark...          1\n",
              "41152  airline pilots offering stock supermarket shel...          0\n",
              "41156  tartiicat well newused rift going amazon rn al...         -1\n",
              "\n",
              "[32567 rows x 2 columns]"
            ]
          },
          "metadata": {},
          "execution_count": 26
        }
      ]
    },
    {
      "cell_type": "markdown",
      "source": [
        "### One-hot encoding\n"
      ],
      "metadata": {
        "id": "C8nBzrPr00nU"
      }
    },
    {
      "cell_type": "code",
      "source": [
        "# Create data_vocal: vocabulary of words present in dataset\n",
        "data_vocab = []\n",
        "\n",
        "for text in train_data.OriginalTweet:\n",
        "    for word in text:\n",
        "        if word not in data_vocab:\n",
        "            data_vocab.append(word)"
      ],
      "metadata": {
        "id": "rC-PoaYG1g8I"
      },
      "execution_count": 27,
      "outputs": []
    },
    {
      "cell_type": "code",
      "source": [
        "#function to return one-hot representation of passed text\n",
        "def get_onehot(text, vocab = data_vocab):\n",
        "\n",
        "    onehot_encoded = []\n",
        "    len_vocab = len(vocab)\n",
        "    for word in text:\n",
        "        temp = [0]*len_vocab\n",
        "        temp[vocab.index(word) - 1] = 1\n",
        "        onehot_encoded.append(temp)\n",
        "\n",
        "    return onehot_encoded"
      ],
      "metadata": {
        "id": "tzmzmZfK2gq0"
      },
      "execution_count": 28,
      "outputs": []
    },
    {
      "cell_type": "code",
      "source": [
        "# Test onehot encoded\n",
        "sample_vocab = ['the', 'cat', 'sat', 'on', 'mat', 'dog', 'run', 'green', 'tree']\n",
        "\n",
        "print(\"One Hot Representation for sentence \\\"the cat sat on the mat\\\" :\")\n",
        "get_onehot(['the', 'cat', 'sat', 'on', 'the', 'mat'], sample_vocab)"
      ],
      "metadata": {
        "colab": {
          "base_uri": "https://localhost:8080/"
        },
        "id": "NRFiciiY5nxd",
        "outputId": "0fe55f04-418a-4b51-f41e-41a1e8303191"
      },
      "execution_count": 29,
      "outputs": [
        {
          "output_type": "stream",
          "name": "stdout",
          "text": [
            "One Hot Representation for sentence \"the cat sat on the mat\" :\n"
          ]
        },
        {
          "output_type": "execute_result",
          "data": {
            "text/plain": [
              "[[0, 0, 0, 0, 0, 0, 0, 0, 1],\n",
              " [1, 0, 0, 0, 0, 0, 0, 0, 0],\n",
              " [0, 1, 0, 0, 0, 0, 0, 0, 0],\n",
              " [0, 0, 1, 0, 0, 0, 0, 0, 0],\n",
              " [0, 0, 0, 0, 0, 0, 0, 0, 1],\n",
              " [0, 0, 0, 1, 0, 0, 0, 0, 0]]"
            ]
          },
          "metadata": {},
          "execution_count": 29
        }
      ]
    },
    {
      "cell_type": "markdown",
      "source": [
        "One-hot encoding is intuitive to understand and straightforward to implement. However, it has lots of disadvantages listed below\n",
        "\n",
        "1. The size of a one-hot vector is directly proportional to the size of the vocabulary and if we consider a real-world vocabulary size it may be in millions so we can not represent a single word with a million-dimensional vector.\n",
        "\n",
        "2. One-hot representation does not give a fixed-length representation for text, i.e., the sentence with 32 words in it and 40 words in it has variable length representation. But for most learning algorithms, we need the feature vectors to be of the same length.\n",
        "\n",
        "3. One-Hot representation gives each word the same weight whether that word is important for the task or not.\n",
        "\n",
        "4. One-Hot representation does not represent the meaning of the word in a proper numerical manner as embedding vectors do. Consider an example word read, reading should have similar real-valued vector representation but in this case, they have different representations.\n",
        "\n",
        "5. Let say we train the model on some article and get the vocabulary of size 10000 but what if we use this vocabulary on that text which contains words that are not present in learned vocabulary. This is Known as Out Of Vocabulary (OOV) problem."
      ],
      "metadata": {
        "id": "dn2cBZaa5_Su"
      }
    },
    {
      "cell_type": "markdown",
      "source": [
        "### Bag of words (BoW)\n",
        "Bag of words (BoW) is a classical text representation technique that has been used commonly in NLP, especially in text classification problems. The key idea behind it is as follows: represent the text under consideration as a bag (collection) of words while ignoring the order and context.\n",
        "\n",
        "Similar to one-hot encoding, BoW maps words to unique integer IDs between 1 and |V|. Each document in the corpus is then converted into a vector of |V| dimensions were in the ith component of the vector, i = wid, is simply the number of times the word w occurs in the document, i.e., we simply score each word in V by their occurrence count in the document."
      ],
      "metadata": {
        "id": "vxH0u5Lt9E_2"
      }
    },
    {
      "cell_type": "code",
      "source": [
        "# Test BoW\n",
        "from sklearn.feature_extraction.text import CountVectorizer\n",
        "\n",
        "sample_bow = CountVectorizer()\n",
        "\n",
        "sample_corpus = [\"the cat sat\", \"the cat sat in the hat\", \"the cat with the hat\"]\n",
        "\n",
        "sample_bow.fit(sample_corpus)\n",
        "\n",
        "def get_bow_representation(text):\n",
        "    return sample_bow.transform(text)"
      ],
      "metadata": {
        "id": "aOTTDGvl9d5Y"
      },
      "execution_count": 30,
      "outputs": []
    },
    {
      "cell_type": "code",
      "source": [
        "print(f\"Vocabulary mapping for given sample corpus : \\n {sample_bow.vocabulary_}\")\n",
        "print(\"\\nBag of word Representation of sentence 'the cat cat sat in the hat'\")\n",
        "print(get_bow_representation([\"the cat cat sat in the hat\"]).toarray())"
      ],
      "metadata": {
        "colab": {
          "base_uri": "https://localhost:8080/"
        },
        "id": "R2qGueJC9xPd",
        "outputId": "b7b2a120-8156-4e1b-8830-783bbf11db74"
      },
      "execution_count": 31,
      "outputs": [
        {
          "output_type": "stream",
          "name": "stdout",
          "text": [
            "Vocabulary mapping for given sample corpus : \n",
            " {'the': 4, 'cat': 0, 'sat': 3, 'in': 2, 'hat': 1, 'with': 5}\n",
            "\n",
            "Bag of word Representation of sentence 'the cat cat sat in the hat'\n",
            "[[2 1 1 1 2 0]]\n"
          ]
        }
      ]
    },
    {
      "cell_type": "markdown",
      "source": [
        "**Advantages of this Bag of words(BoW) encoding :**\n",
        "\n",
        "1. Like one-hot encoding, BoW is fairly simple to understand and implement.\n",
        "\n",
        "2. With this representation, documents having the same words will have their vector representations closer to each other in Euclidean space as compared to documents with completely different words.\n",
        "\n",
        "  Consider an example Where\n",
        "\n",
        "\n",
        "    S1 = \"cat on the mat\" --> BoW Representation --> {0 1 1 0 1 0 1}\n",
        "    S2 = \"mat on the cat\" --> BoW Representation --> {0 1 1 0 1 0 1}\n",
        "    S3 = \"dog in the mat\" --> BoW Representation --> {0 1 0 1 1 1 0}\n",
        "\n",
        "The distance between S1 and S2 is 0 as compared to the distance between S1 and S3, which is 2. Thus, the vector space resulting from the BoW scheme captures the semantic similarity of documents. So if two documents have a similar vocabulary, they’ll be closer to each other in the vector space and vice versa.\n",
        "\n",
        "3. We have a fixed-length encoding for any sentence of arbitrary length.\n",
        "\n",
        "\n",
        "**Disadvantages of this Bag of words(BoW) encoding :**\n",
        "\n",
        "1. The size of the vector increases with the size of the vocabulary as in our case it is 14238 dimensional. Thus, sparsity continues to be a problem. One way to control it is by limiting the vocabulary to n number of the most frequent words.\n",
        "\n",
        "2. It does not capture the similarity between different words that mean the same thing. Say we have three documents: “walk”, “walked”, and “walking”. BoW vectors of all three documents will be equally apart.\n",
        "\n",
        "3. This representation does not have any way to handle out of vocabulary (OOV) words (i.e., new words that were not seen in the corpus that was used to build the vectorizer).\n",
        "\n",
        "4. As the name indicates, it is a “bag” of words—word order information is lost in this representation. Both S1 and S2 will have the same representation in this scheme."
      ],
      "metadata": {
        "id": "amwjRog1-voC"
      }
    },
    {
      "cell_type": "markdown",
      "source": [
        "### TF-IDF\n",
        "**Mathematically, this is captured using two quantities: TF and IDF. The two are then multiplied to arrive at the TF-IDF score.**\n",
        "\n",
        "**TF (term frequency) measures how often a term or word occurs in a given document**\n",
        "\n",
        "![download (1).png](data:image/png;base64,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)\n",
        "![download.png](data:image/png;base64,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)\n",
        "\n"
      ],
      "metadata": {
        "id": "dzIipSTXEj4g"
      }
    },
    {
      "cell_type": "code",
      "source": [
        "from sklearn.feature_extraction.text import TfidfVectorizer\n",
        "from sklearn.model_selection import train_test_split\n",
        "\n",
        "X = train_data['OriginalTweet'].tolist()\n",
        "y = train_data['Sentiment'].tolist()\n",
        "\n",
        "X_train, y_train, X_val, y_val = train_test_split(X, y, \n",
        "                                                  test_size = 0.2,\n",
        "                                                  random_state = 42)\n",
        "\n",
        "\n",
        "tfidf = TfidfVectorizer(sublinear_tf= True, min_df = 5,\n",
        "                      stop_words = 'english')\n",
        "\n",
        "# Transform each text into a vector\n",
        "features = tfidf.fit_transform(train_data.OriginalTweet).toarray()\n",
        "\n",
        "labels = train_data.Sentiment\n",
        "print(\"Each of the %d tweets is represented by %d features (TF-IDF score of unigrams and bigrams)\" %(features.shape))"
      ],
      "metadata": {
        "colab": {
          "base_uri": "https://localhost:8080/"
        },
        "id": "uZqyznd5IGS6",
        "outputId": "bbdd7eb8-ee7a-4e21-a418-f0e5a89bd43e"
      },
      "execution_count": 32,
      "outputs": [
        {
          "output_type": "stream",
          "name": "stdout",
          "text": [
            "Each of the 32567 tweets is represented by 9249 features (TF-IDF score of unigrams and bigrams)\n"
          ]
        }
      ]
    },
    {
      "cell_type": "markdown",
      "source": [
        "## Model"
      ],
      "metadata": {
        "id": "rHYHl_qVMJVc"
      }
    },
    {
      "cell_type": "markdown",
      "source": [
        "### Build A custom model in Sklearn  "
      ],
      "metadata": {
        "id": "ThnDYpjVBhSD"
      }
    },
    {
      "cell_type": "code",
      "source": [
        "from pandas.core.common import random_state\n",
        "from sklearn.ensemble import RandomForestClassifier\n",
        "from sklearn.svm import LinearSVC\n",
        "from sklearn.naive_bayes import MultinomialNB\n",
        "from sklearn.model_selection import cross_val_score\n",
        "\n",
        "models = [\n",
        "    RandomForestClassifier(n_estimators= 100, max_depth= 5, random_state = 42),\n",
        "    LinearSVC(),\n",
        "    MultinomialNB()\n",
        "]\n",
        "\n",
        "# 5 Cross-validation\n",
        "CV = 5\n",
        "cv_df = pd.DataFrame(index = range(CV * len(models)))\n",
        "\n",
        "\n",
        "entries = []\n",
        "for model in models:\n",
        "    model_name = model.__class__.__name__\n",
        "    accuracies  = cross_val_score(model, \n",
        "                               features, labels, \n",
        "                               scoring = 'accuracy',\n",
        "                               cv = CV)\n",
        "    for fold_idx, accuracy in enumerate(accuracies):\n",
        "        entries.append((model_name, fold_idx, accuracy))\n",
        "\n",
        "cv_df = pd.DataFrame(entries,\n",
        "                     columns = ['model_name', 'fold_idx', 'accuracy'])\n"
      ],
      "metadata": {
        "id": "z9qn4c6qBraB"
      },
      "execution_count": 33,
      "outputs": []
    },
    {
      "cell_type": "code",
      "source": [
        "mean_accuracy = cv_df.groupby('model_name').accuracy.mean()\n",
        "std_accuracy = cv_df.groupby('model_name').accuracy.std()\n",
        "\n",
        "acc = pd.concat([mean_accuracy, std_accuracy], axis = 1, ignore_index = True)\n",
        "acc.columns = ['Mean Accuracy', 'Standard deviation']\n",
        "acc\n"
      ],
      "metadata": {
        "colab": {
          "base_uri": "https://localhost:8080/",
          "height": 154
        },
        "id": "PfkJ88nJC5zV",
        "outputId": "d910641f-340c-4eac-b19a-a68b8c79f4e2"
      },
      "execution_count": 34,
      "outputs": [
        {
          "output_type": "execute_result",
          "data": {
            "application/vnd.google.colaboratory.module+javascript": "\n      import \"https://ssl.gstatic.com/colaboratory/data_table/a6224c040fa35dcf/data_table.js\";\n\n      window.createDataTable({\n        data: [[\"LinearSVC\",\n{\n            'v': 0.770964780247964,\n            'f': \"0.770964780247964\",\n        },\n{\n            'v': 0.008418147500371028,\n            'f': \"0.008418147500371028\",\n        }],\n [\"MultinomialNB\",\n{\n            'v': 0.6512421084945671,\n            'f': \"0.6512421084945671\",\n        },\n{\n            'v': 0.004626022553583464,\n            'f': \"0.004626022553583464\",\n        }],\n [\"RandomForestClassifier\",\n{\n            'v': 0.47250234421688264,\n            'f': \"0.47250234421688264\",\n        },\n{\n            'v': 0.009596753658718937,\n            'f': \"0.009596753658718937\",\n        }]],\n        columns: [[\"string\", \"model_name\"], [\"number\", \"Mean Accuracy\"], [\"number\", \"Standard deviation\"]],\n        columnOptions: [{\"width\": \"1px\", \"className\": \"index_column\"}],\n        rowsPerPage: 25,\n        helpUrl: \"https://colab.research.google.com/notebooks/data_table.ipynb\",\n        suppressOutputScrolling: true,\n        minimumWidth: undefined,\n      });\n    ",
            "text/html": [
              "\n",
              "  <div id=\"df-12ac3ed2-6436-4c9a-9bac-0e242cdd30f3\">\n",
              "    <div class=\"colab-df-container\">\n",
              "      <div>\n",
              "<style scoped>\n",
              "    .dataframe tbody tr th:only-of-type {\n",
              "        vertical-align: middle;\n",
              "    }\n",
              "\n",
              "    .dataframe tbody tr th {\n",
              "        vertical-align: top;\n",
              "    }\n",
              "\n",
              "    .dataframe thead th {\n",
              "        text-align: right;\n",
              "    }\n",
              "</style>\n",
              "<table border=\"1\" class=\"dataframe\">\n",
              "  <thead>\n",
              "    <tr style=\"text-align: right;\">\n",
              "      <th></th>\n",
              "      <th>Mean Accuracy</th>\n",
              "      <th>Standard deviation</th>\n",
              "    </tr>\n",
              "    <tr>\n",
              "      <th>model_name</th>\n",
              "      <th></th>\n",
              "      <th></th>\n",
              "    </tr>\n",
              "  </thead>\n",
              "  <tbody>\n",
              "    <tr>\n",
              "      <th>LinearSVC</th>\n",
              "      <td>0.770965</td>\n",
              "      <td>0.008418</td>\n",
              "    </tr>\n",
              "    <tr>\n",
              "      <th>MultinomialNB</th>\n",
              "      <td>0.651242</td>\n",
              "      <td>0.004626</td>\n",
              "    </tr>\n",
              "    <tr>\n",
              "      <th>RandomForestClassifier</th>\n",
              "      <td>0.472502</td>\n",
              "      <td>0.009597</td>\n",
              "    </tr>\n",
              "  </tbody>\n",
              "</table>\n",
              "</div>\n",
              "      <button class=\"colab-df-convert\" onclick=\"convertToInteractive('df-12ac3ed2-6436-4c9a-9bac-0e242cdd30f3')\"\n",
              "              title=\"Convert this dataframe to an interactive table.\"\n",
              "              style=\"display:none;\">\n",
              "        \n",
              "  <svg xmlns=\"http://www.w3.org/2000/svg\" height=\"24px\"viewBox=\"0 0 24 24\"\n",
              "       width=\"24px\">\n",
              "    <path d=\"M0 0h24v24H0V0z\" fill=\"none\"/>\n",
              "    <path d=\"M18.56 5.44l.94 2.06.94-2.06 2.06-.94-2.06-.94-.94-2.06-.94 2.06-2.06.94zm-11 1L8.5 8.5l.94-2.06 2.06-.94-2.06-.94L8.5 2.5l-.94 2.06-2.06.94zm10 10l.94 2.06.94-2.06 2.06-.94-2.06-.94-.94-2.06-.94 2.06-2.06.94z\"/><path d=\"M17.41 7.96l-1.37-1.37c-.4-.4-.92-.59-1.43-.59-.52 0-1.04.2-1.43.59L10.3 9.45l-7.72 7.72c-.78.78-.78 2.05 0 2.83L4 21.41c.39.39.9.59 1.41.59.51 0 1.02-.2 1.41-.59l7.78-7.78 2.81-2.81c.8-.78.8-2.07 0-2.86zM5.41 20L4 18.59l7.72-7.72 1.47 1.35L5.41 20z\"/>\n",
              "  </svg>\n",
              "      </button>\n",
              "      \n",
              "  <style>\n",
              "    .colab-df-container {\n",
              "      display:flex;\n",
              "      flex-wrap:wrap;\n",
              "      gap: 12px;\n",
              "    }\n",
              "\n",
              "    .colab-df-convert {\n",
              "      background-color: #E8F0FE;\n",
              "      border: none;\n",
              "      border-radius: 50%;\n",
              "      cursor: pointer;\n",
              "      display: none;\n",
              "      fill: #1967D2;\n",
              "      height: 32px;\n",
              "      padding: 0 0 0 0;\n",
              "      width: 32px;\n",
              "    }\n",
              "\n",
              "    .colab-df-convert:hover {\n",
              "      background-color: #E2EBFA;\n",
              "      box-shadow: 0px 1px 2px rgba(60, 64, 67, 0.3), 0px 1px 3px 1px rgba(60, 64, 67, 0.15);\n",
              "      fill: #174EA6;\n",
              "    }\n",
              "\n",
              "    [theme=dark] .colab-df-convert {\n",
              "      background-color: #3B4455;\n",
              "      fill: #D2E3FC;\n",
              "    }\n",
              "\n",
              "    [theme=dark] .colab-df-convert:hover {\n",
              "      background-color: #434B5C;\n",
              "      box-shadow: 0px 1px 3px 1px rgba(0, 0, 0, 0.15);\n",
              "      filter: drop-shadow(0px 1px 2px rgba(0, 0, 0, 0.3));\n",
              "      fill: #FFFFFF;\n",
              "    }\n",
              "  </style>\n",
              "\n",
              "      <script>\n",
              "        const buttonEl =\n",
              "          document.querySelector('#df-12ac3ed2-6436-4c9a-9bac-0e242cdd30f3 button.colab-df-convert');\n",
              "        buttonEl.style.display =\n",
              "          google.colab.kernel.accessAllowed ? 'block' : 'none';\n",
              "\n",
              "        async function convertToInteractive(key) {\n",
              "          const element = document.querySelector('#df-12ac3ed2-6436-4c9a-9bac-0e242cdd30f3');\n",
              "          const dataTable =\n",
              "            await google.colab.kernel.invokeFunction('convertToInteractive',\n",
              "                                                     [key], {});\n",
              "          if (!dataTable) return;\n",
              "\n",
              "          const docLinkHtml = 'Like what you see? Visit the ' +\n",
              "            '<a target=\"_blank\" href=https://colab.research.google.com/notebooks/data_table.ipynb>data table notebook</a>'\n",
              "            + ' to learn more about interactive tables.';\n",
              "          element.innerHTML = '';\n",
              "          dataTable['output_type'] = 'display_data';\n",
              "          await google.colab.output.renderOutput(dataTable, element);\n",
              "          const docLink = document.createElement('div');\n",
              "          docLink.innerHTML = docLinkHtml;\n",
              "          element.appendChild(docLink);\n",
              "        }\n",
              "      </script>\n",
              "    </div>\n",
              "  </div>\n",
              "  "
            ],
            "text/plain": [
              "                        Mean Accuracy  Standard deviation\n",
              "model_name                                               \n",
              "LinearSVC                    0.770965            0.008418\n",
              "MultinomialNB                0.651242            0.004626\n",
              "RandomForestClassifier       0.472502            0.009597"
            ]
          },
          "metadata": {},
          "execution_count": 34
        }
      ]
    },
    {
      "cell_type": "code",
      "source": [
        "plt.figure(figsize=(8,5))\n",
        "sns.boxplot(x='model_name', y='accuracy', \n",
        "            data=cv_df, \n",
        "            color='lightblue', \n",
        "            showmeans=True)\n",
        "plt.title(\"MEAN ACCURACY (cv = 5)\\n\", size=14);"
      ],
      "metadata": {
        "colab": {
          "base_uri": "https://localhost:8080/",
          "height": 368
        },
        "id": "Ye_VdwNDH54o",
        "outputId": "29cbe1fb-7f0e-4571-d35b-f2d0f03db290"
      },
      "execution_count": 35,
      "outputs": [
        {
          "output_type": "display_data",
          "data": {
            "image/png": "[encoded data removed]",
            "text/plain": [
              "<Figure size 576x360 with 1 Axes>"
            ]
          },
          "metadata": {
            "needs_background": "light"
          }
        }
      ]
    },
    {
      "cell_type": "code",
      "source": [
        "X_train, X_test, y_train, y_test,indices_train,indices_test = train_test_split(features, \n",
        "                                                               labels, \n",
        "                                                               train_data.index, test_size=0.2, \n",
        "                                                               random_state=42)\n",
        "model =   LinearSVC()\n",
        "model.fit(X_train, y_train)\n",
        "y_pred = model.predict(X_test)"
      ],
      "metadata": {
        "id": "29TMQMSII2nl"
      },
      "execution_count": 36,
      "outputs": []
    },
    {
      "cell_type": "code",
      "source": [
        "# Classification report \n",
        "from sklearn.model_selection import cross_val_score\n",
        "from sklearn.metrics import confusion_matrix, ConfusionMatrixDisplay\n",
        "from sklearn import metrics\n",
        "\n",
        "print(metrics.classification_report(y_test, y_pred))"
      ],
      "metadata": {
        "colab": {
          "base_uri": "https://localhost:8080/"
        },
        "id": "TlXGpXBhJ5mY",
        "outputId": "f107f272-ce83-4158-c845-d8845b8fb625"
      },
      "execution_count": 37,
      "outputs": [
        {
          "output_type": "stream",
          "name": "stdout",
          "text": [
            "              precision    recall  f1-score   support\n",
            "\n",
            "          -1       0.79      0.78      0.78      2403\n",
            "           0       0.68      0.64      0.66      1240\n",
            "           1       0.81      0.84      0.83      2871\n",
            "\n",
            "    accuracy                           0.78      6514\n",
            "   macro avg       0.76      0.75      0.76      6514\n",
            "weighted avg       0.78      0.78      0.78      6514\n",
            "\n"
          ]
        }
      ]
    },
    {
      "cell_type": "code",
      "source": [
        "conf_mat = confusion_matrix(y_test, y_pred)\n",
        "disp = ConfusionMatrixDisplay(confusion_matrix=conf_mat,\n",
        "                            display_labels= None)\n",
        "disp.plot(cmap ='Blues')\n",
        "plt.title(\"CONFUSION MATRIX - LinearSVC\\n\");\n",
        "plt.show();"
      ],
      "metadata": {
        "colab": {
          "base_uri": "https://localhost:8080/",
          "height": 310
        },
        "id": "Qa-vS5WBKa_Y",
        "outputId": "891626b0-1a2c-4c75-fcae-3ac8124a59a4"
      },
      "execution_count": 38,
      "outputs": [
        {
          "output_type": "display_data",
          "data": {
            "image/png": "[encoded data removed]",
            "text/plain": [
              "<Figure size 432x288 with 2 Axes>"
            ]
          },
          "metadata": {
            "needs_background": "light"
          }
        }
      ]
    },
    {
      "cell_type": "markdown",
      "source": [
        "### Build A custom model in \bTensorFlow  "
      ],
      "metadata": {
        "id": "OBvuDAilLHZM"
      }
    },
    {
      "cell_type": "code",
      "source": [
        "import tensorflow as tf\n",
        "from tensorflow.keras.preprocessing.text import Tokenizer\n",
        "from tensorflow.keras.preprocessing.sequence import pad_sequences\n"
      ],
      "metadata": {
        "id": "tfs2t6rQRBsj"
      },
      "execution_count": 39,
      "outputs": []
    },
    {
      "cell_type": "code",
      "source": [
        "X_train = train_data['OriginalTweet']\n",
        "X_test = test_data['OriginalTweet']\n",
        "\n",
        "y_train = train_data['Sentiment']\n",
        "y_test = test_data['Sentiment']"
      ],
      "metadata": {
        "id": "4Z-81cDERhi8"
      },
      "execution_count": 40,
      "outputs": []
    },
    {
      "cell_type": "code",
      "source": [
        "X_train.shape, y_train.shape, X_test.shape, y_test.shape"
      ],
      "metadata": {
        "colab": {
          "base_uri": "https://localhost:8080/"
        },
        "id": "z30O_v8NSebE",
        "outputId": "9243b97a-7e03-4f27-d00a-74d3ed37fdb8"
      },
      "execution_count": 41,
      "outputs": [
        {
          "output_type": "execute_result",
          "data": {
            "text/plain": [
              "((32567,), (32567,), (2964,), (2964,))"
            ]
          },
          "metadata": {},
          "execution_count": 41
        }
      ]
    },
    {
      "cell_type": "code",
      "source": [
        "# Maxiumn lenght of sequence \n",
        "max_len = np.max(X_train.apply(lambda x: len(x)))\n",
        "max_len"
      ],
      "metadata": {
        "colab": {
          "base_uri": "https://localhost:8080/"
        },
        "id": "TIAsvhBtSe3b",
        "outputId": "9f59680f-b216-43ee-ede6-46d56d673226"
      },
      "execution_count": 42,
      "outputs": [
        {
          "output_type": "execute_result",
          "data": {
            "text/plain": [
              "266"
            ]
          },
          "metadata": {},
          "execution_count": 42
        }
      ]
    },
    {
      "cell_type": "code",
      "source": [
        "# Tokenizer init\n",
        "tokenizer = Tokenizer()\n",
        "\n",
        "tokenizer.fit_on_texts(X_train)\n",
        "vocab_length = len(tokenizer.word_index) + 1\n",
        "\n",
        "X_train = tokenizer.texts_to_sequences(X_train)\n",
        "X_test = tokenizer.texts_to_sequences(X_test)\n",
        "\n",
        "X_train = pad_sequences(X_train, maxlen=max_len, padding='post')\n",
        "X_test = pad_sequences(X_test, maxlen=max_len, padding='post')"
      ],
      "metadata": {
        "id": "HShTQndrSwyP"
      },
      "execution_count": 43,
      "outputs": []
    },
    {
      "cell_type": "code",
      "source": [
        "from tensorflow.keras.utils import to_categorical\n",
        "y_train = to_categorical(y_train, 3)\n",
        "y_test = to_categorical(y_test, 3)"
      ],
      "metadata": {
        "id": "TJI76AnjP5c7"
      },
      "execution_count": 44,
      "outputs": []
    },
    {
      "cell_type": "code",
      "source": [
        "print(\"Vocab length:\", vocab_length)\n",
        "print(\"Max sequence length:\", max_len)"
      ],
      "metadata": {
        "colab": {
          "base_uri": "https://localhost:8080/"
        },
        "id": "7MTf_pFLTdn4",
        "outputId": "a13d8494-43bc-44ca-fad3-8223de5e363d"
      },
      "execution_count": 45,
      "outputs": [
        {
          "output_type": "stream",
          "name": "stdout",
          "text": [
            "Vocab length: 50577\n",
            "Max sequence length: 266\n"
          ]
        }
      ]
    },
    {
      "cell_type": "code",
      "source": [
        "embedding_dim = 16"
      ],
      "metadata": {
        "id": "Ojce_HOhU-F2"
      },
      "execution_count": 46,
      "outputs": []
    },
    {
      "cell_type": "code",
      "source": [
        "X_train[4].shape"
      ],
      "metadata": {
        "colab": {
          "base_uri": "https://localhost:8080/"
        },
        "id": "FG__0T1wVBx3",
        "outputId": "ad48de61-b53f-4484-d6a9-d846359d7d41"
      },
      "execution_count": 47,
      "outputs": [
        {
          "output_type": "execute_result",
          "data": {
            "text/plain": [
              "(266,)"
            ]
          },
          "metadata": {},
          "execution_count": 47
        }
      ]
    },
    {
      "cell_type": "code",
      "source": [
        "# Create model using Functional API\n",
        "model = tf.keras.Sequential([\n",
        "    tf.keras.layers.Embedding(vocab_length, embedding_dim, input_length=max_len),\n",
        "    tf.keras.layers.Bidirectional(tf.keras.layers.LSTM(256, return_sequences=True)),\n",
        "    tf.keras.layers.GlobalAveragePooling1D(),\n",
        "    tf.keras.layers.Dense(64, activation='relu'),\n",
        "    tf.keras.layers.Dropout(0.4),\n",
        "    tf.keras.layers.Dense(8, activation='relu'),\n",
        "    tf.keras.layers.Dropout(0.4),\n",
        "    tf.keras.layers.Dense(3, activation='softmax')\n",
        "])\n",
        "\n",
        "# Compile model\n",
        "model.compile(\n",
        "    loss = tf.keras.losses.categorical_crossentropy,\n",
        "    optimizer = tf.keras.optimizers.Adam(),\n",
        "    metrics = ['accuracy']\n",
        ")\n",
        "\n",
        "model.summary()"
      ],
      "metadata": {
        "colab": {
          "base_uri": "https://localhost:8080/"
        },
        "id": "KhFUiRQ4VTUR",
        "outputId": "15447718-b375-4b57-da2c-56f03f5d0ee0"
      },
      "execution_count": 61,
      "outputs": [
        {
          "output_type": "stream",
          "name": "stdout",
          "text": [
            "Model: \"sequential_1\"\n",
            "_________________________________________________________________\n",
            " Layer (type)                Output Shape              Param #   \n",
            "=================================================================\n",
            " embedding_1 (Embedding)     (None, 266, 16)           809232    \n",
            "                                                                 \n",
            " bidirectional_1 (Bidirectio  (None, 266, 512)         559104    \n",
            " nal)                                                            \n",
            "                                                                 \n",
            " global_average_pooling1d_1   (None, 512)              0         \n",
            " (GlobalAveragePooling1D)                                        \n",
            "                                                                 \n",
            " dense_3 (Dense)             (None, 64)                32832     \n",
            "                                                                 \n",
            " dropout_1 (Dropout)         (None, 64)                0         \n",
            "                                                                 \n",
            " dense_4 (Dense)             (None, 8)                 520       \n",
            "                                                                 \n",
            " dropout_2 (Dropout)         (None, 8)                 0         \n",
            "                                                                 \n",
            " dense_5 (Dense)             (None, 3)                 27        \n",
            "                                                                 \n",
            "=================================================================\n",
            "Total params: 1,401,715\n",
            "Trainable params: 1,401,715\n",
            "Non-trainable params: 0\n",
            "_________________________________________________________________\n"
          ]
        }
      ]
    },
    {
      "cell_type": "code",
      "source": [
        "tf.keras.utils.plot_model(model)"
      ],
      "metadata": {
        "colab": {
          "base_uri": "https://localhost:8080/",
          "height": 856
        },
        "id": "uV7nXGTBWpDD",
        "outputId": "05662786-b483-4d7f-ddcd-ee352243e79a"
      },
      "execution_count": 62,
      "outputs": [
        {
          "output_type": "execute_result",
          "data": {
            "image/png": "[encoded data removed]",
            "text/plain": [
              "<IPython.core.display.Image object>"
            ]
          },
          "metadata": {},
          "execution_count": 62
        }
      ]
    },
    {
      "cell_type": "code",
      "source": [
        "# Fit model \n",
        "num_epochs = 20\n",
        "history = model.fit(X_train, y_train, epochs=num_epochs, \n",
        "                    validation_data=(X_test, y_test))"
      ],
      "metadata": {
        "colab": {
          "base_uri": "https://localhost:8080/"
        },
        "id": "md3PlFAsXs0J",
        "outputId": "4abb67dc-4bce-47c2-a59e-73c2784d51f0"
      },
      "execution_count": 64,
      "outputs": [
        {
          "output_type": "stream",
          "name": "stdout",
          "text": [
            "Epoch 1/20\n",
            "1018/1018 [==============================] - 35s 34ms/step - loss: 1.0442 - accuracy: 0.4416 - val_loss: 1.0350 - val_accuracy: 0.4072\n",
            "Epoch 2/20\n",
            "1018/1018 [==============================] - 32s 32ms/step - loss: 1.0441 - accuracy: 0.4416 - val_loss: 1.0346 - val_accuracy: 0.4072\n",
            "Epoch 3/20\n",
            "1018/1018 [==============================] - 33s 32ms/step - loss: 1.0441 - accuracy: 0.4416 - val_loss: 1.0351 - val_accuracy: 0.4072\n",
            "Epoch 4/20\n",
            "1018/1018 [==============================] - 33s 32ms/step - loss: 1.0441 - accuracy: 0.4416 - val_loss: 1.0367 - val_accuracy: 0.4072\n",
            "Epoch 5/20\n",
            "1018/1018 [==============================] - 32s 32ms/step - loss: 1.0441 - accuracy: 0.4416 - val_loss: 1.0353 - val_accuracy: 0.4072\n",
            "Epoch 6/20\n",
            "1018/1018 [==============================] - 33s 32ms/step - loss: 1.0441 - accuracy: 0.4416 - val_loss: 1.0356 - val_accuracy: 0.4072\n",
            "Epoch 7/20\n",
            "1018/1018 [==============================] - 33s 32ms/step - loss: 1.0441 - accuracy: 0.4416 - val_loss: 1.0347 - val_accuracy: 0.4072\n",
            "Epoch 8/20\n",
            "1018/1018 [==============================] - 33s 32ms/step - loss: 1.0441 - accuracy: 0.4416 - val_loss: 1.0363 - val_accuracy: 0.4072\n",
            "Epoch 9/20\n",
            "1018/1018 [==============================] - 33s 32ms/step - loss: 1.0441 - accuracy: 0.4416 - val_loss: 1.0357 - val_accuracy: 0.4072\n",
            "Epoch 10/20\n",
            "1018/1018 [==============================] - 33s 32ms/step - loss: 1.0441 - accuracy: 0.4416 - val_loss: 1.0356 - val_accuracy: 0.4072\n",
            "Epoch 11/20\n",
            "1018/1018 [==============================] - 33s 32ms/step - loss: 1.0441 - accuracy: 0.4416 - val_loss: 1.0350 - val_accuracy: 0.4072\n",
            "Epoch 12/20\n",
            "1018/1018 [==============================] - 33s 32ms/step - loss: 1.0441 - accuracy: 0.4416 - val_loss: 1.0356 - val_accuracy: 0.4072\n",
            "Epoch 13/20\n",
            "1018/1018 [==============================] - 33s 32ms/step - loss: 1.0441 - accuracy: 0.4416 - val_loss: 1.0366 - val_accuracy: 0.4072\n",
            "Epoch 14/20\n",
            "1018/1018 [==============================] - 33s 32ms/step - loss: 1.0441 - accuracy: 0.4416 - val_loss: 1.0356 - val_accuracy: 0.4072\n",
            "Epoch 15/20\n",
            "1018/1018 [==============================] - 33s 32ms/step - loss: 1.0441 - accuracy: 0.4416 - val_loss: 1.0357 - val_accuracy: 0.4072\n",
            "Epoch 16/20\n",
            "1018/1018 [==============================] - 33s 32ms/step - loss: 1.0441 - accuracy: 0.4416 - val_loss: 1.0363 - val_accuracy: 0.4072\n",
            "Epoch 17/20\n",
            "1018/1018 [==============================] - 33s 32ms/step - loss: 1.0441 - accuracy: 0.4416 - val_loss: 1.0363 - val_accuracy: 0.4072\n",
            "Epoch 18/20\n",
            "1018/1018 [==============================] - 33s 32ms/step - loss: 1.0442 - accuracy: 0.4416 - val_loss: 1.0355 - val_accuracy: 0.4072\n",
            "Epoch 19/20\n",
            "1018/1018 [==============================] - 33s 32ms/step - loss: 1.0441 - accuracy: 0.4416 - val_loss: 1.0368 - val_accuracy: 0.4072\n",
            "Epoch 20/20\n",
            "1018/1018 [==============================] - 33s 32ms/step - loss: 1.0441 - accuracy: 0.4416 - val_loss: 1.0356 - val_accuracy: 0.4072\n"
          ]
        }
      ]
    },
    {
      "cell_type": "code",
      "source": [
        "acc = history.history['accuracy']\n",
        "val_acc = history.history['val_accuracy']\n",
        "\n",
        "loss = history.history['loss']\n",
        "val_loss = history.history['val_loss']"
      ],
      "metadata": {
        "id": "6tw8crs3U_-R"
      },
      "execution_count": 65,
      "outputs": []
    },
    {
      "cell_type": "code",
      "source": [
        "epochs = range(len(acc))\n",
        "\n",
        "# Visualize Loss\n",
        "plt.plot(epochs, acc,'b',label='training acc')\n",
        "plt.plot(epochs, val_acc, 'r', label='validation acc')\n",
        "plt.legend()\n",
        "plt.show()\n",
        "\n",
        "# Visualize Accuracy\n",
        "plt.plot(epochs, loss,'b',label='training loss')\n",
        "plt.plot(epochs, val_loss, 'r', label='validation loss')\n",
        "plt.legend()\n",
        "plt.show()"
      ],
      "metadata": {
        "id": "mbg5f5sZYMxW",
        "colab": {
          "base_uri": "https://localhost:8080/",
          "height": 513
        },
        "outputId": "c05e30ad-33c0-4e15-c849-89e81829d623"
      },
      "execution_count": 66,
      "outputs": [
        {
          "output_type": "display_data",
          "data": {
            "image/png": "[encoded data removed]",
            "text/plain": [
              "<Figure size 432x288 with 1 Axes>"
            ]
          },
          "metadata": {
            "needs_background": "light"
          }
        },
        {
          "output_type": "display_data",
          "data": {
            "image/png": "[encoded data removed]",
            "text/plain": [
              "<Figure size 432x288 with 1 Axes>"
            ]
          },
          "metadata": {
            "needs_background": "light"
          }
        }
      ]
    }
  ]
}